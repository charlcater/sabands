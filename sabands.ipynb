{
 "cells": [
  {
   "cell_type": "code",
   "execution_count": null,
   "metadata": {},
   "outputs": [],
   "source": [
    "# imports\n",
    "import pandas as pd\n",
    "import os\n",
    "from random import randint\n",
    "import sys\n",
    "\n",
    "import coverart  # modified coverart script from https://github.com/mobeets/cover-art"
   ]
  },
  {
   "cell_type": "code",
   "execution_count": null,
   "metadata": {},
   "outputs": [],
   "source": [
    "# import csv file to Pandas dataframe, read number of line\n",
    "\n",
    "filename = 'sabands.csv'\n",
    "\n",
    "data = pd.read_csv(filename, delimiter=\",\", header=0)\n",
    "data = data.dropna()\n",
    "numlines = data.shape[0]\n",
    "\n",
    "print('Total data lines: {}'.format(numlines))"
   ]
  },
  {
   "cell_type": "code",
   "execution_count": null,
   "metadata": {},
   "outputs": [],
   "source": [
    "# create output dataframe, select two random entries from input and delete from original\n",
    "\n",
    "outdf = pd.DataFrame(columns=data.columns)\n",
    "\n",
    "selectnums = [randint(0,numlines) for p in range(0,2)]\n",
    "\n",
    "i = 0\n",
    "for i in range(0,2):\n",
    "    s = selectnums[i]\n",
    "    r = data.iloc[s]\n",
    "    outdf.loc[i] = r\n",
    "    data = data.drop(data.index[s]) # delete these entries from the dataframe\n",
    "    ++i\n",
    "\n",
    "#file to hold results\n",
    "outlist = []\n",
    "outfile = 'out.txt'\n",
    "    \n",
    "# write results to output file in format expected by coverart.py\n",
    "with open('out.txt', 'a') as w:\n",
    "    choice0 = outdf.iloc[0]['Artist'] + ' - ' + outdf.iloc[0]['Album']\n",
    "    w.write(choice0+'\\n')\n",
    "    choice1 = outdf.iloc[1]['Artist'] + ' - ' + outdf.iloc[1]['Album']\n",
    "    w.write(choice1+'\\n\\n')\n",
    "\n",
    "print('Album choice 1: ' + choice0 + '\\nAlbum choice 2: ' + choice1)\n",
    "outlist.append(choice0)\n",
    "outlist.append(choice1)\n",
    "print(outlist)\n",
    "\n",
    "# write out a new list minus selected entries\n",
    "# this OVERWRITES the original!\n",
    "with open(filename, 'w') as outfile:\n",
    "    data.to_csv(filename, index=False)"
   ]
  },
  {
   "cell_type": "code",
   "execution_count": null,
   "metadata": {},
   "outputs": [],
   "source": [
    "# download album covers\n",
    "\n",
    "outdir = 'out'\n",
    "if not os.path.exists(outdir):\n",
    "    os.mkdir(outdir)\n",
    "\n",
    "coverart.main(outlist, outdir)"
   ]
  },
  {
   "cell_type": "code",
   "execution_count": null,
   "metadata": {},
   "outputs": [],
   "source": [
    "# display album covers\n",
    "\n",
    "from IPython.display import Image\n",
    "\n",
    "for album in outlist:\n",
    "    albumstring = 'out/' + album + '.jpeg'\n",
    "    try:\n",
    "        display(Image(filename=albumstring, width=450))\n",
    "        print(album+'\\n')\n",
    "    except OSError as e:\n",
    "        print('No image file found for {}'.format(album))\n",
    "    "
   ]
  },
  {
   "cell_type": "code",
   "execution_count": null,
   "metadata": {},
   "outputs": [],
   "source": []
  }
 ],
 "metadata": {
  "kernelspec": {
   "display_name": "Python 3",
   "language": "python",
   "name": "python3"
  },
  "language_info": {
   "codemirror_mode": {
    "name": "ipython",
    "version": 3
   },
   "file_extension": ".py",
   "mimetype": "text/x-python",
   "name": "python",
   "nbconvert_exporter": "python",
   "pygments_lexer": "ipython3",
   "version": "3.7.6"
  }
 },
 "nbformat": 4,
 "nbformat_minor": 2
}
